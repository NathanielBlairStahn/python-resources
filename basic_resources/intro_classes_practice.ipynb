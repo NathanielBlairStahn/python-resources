{
 "cells": [
  {
   "cell_type": "markdown",
   "metadata": {},
   "source": [
    "# Practice with Classes\n",
    "\n",
    "Using the skeleton's below (which are based off the ones from the notes), build off of these classes to implement the following: \n",
    "\n",
    "1.) A `Member` class where each `Member` has the following **attributes**:  \n",
    "* age - Integer\n",
    "* name - Sring\n",
    "* hair color - String \n",
    "* favorite color - String\n",
    "* programming experience - String (make this one have a default value if not passed in upon instantiation)\n",
    "* words - List of Strings (this will be set as an empty list to begin)\n",
    "* foods - List of Strings (this will be set as an empty list to begin)\n",
    "* notes - List of Strings (this will be set as an empty list to begin)\n",
    "\n",
    "and the following **methods** (see the docstrings in the skeleton): \n",
    "* speaks\n",
    "* eats \n",
    "* writes \n",
    "\n",
    "2.) A `Meetup` class where each `Meetup` has the following **attributes**: \n",
    "* members - list of all the members in the Meetup\n",
    "* names - list of all the members names in the Meetup\n",
    "\n",
    "and the following **methods** (see the docstrings in the skeleton code): \n",
    "* get_menu\n",
    "* get_notes\n",
    "* get_transcript\n",
    "\n",
    "3.) Instantiate a `Member` for each member in your group, and then create an instance of the `Meetup` class you have created and fill it with your members. Double check that all of your code works and does what you expect when you're finished. "
   ]
  },
  {
   "cell_type": "code",
   "execution_count": 21,
   "metadata": {
    "collapsed": true
   },
   "outputs": [],
   "source": [
    "class Member(): \n",
    "    \n",
    "    def __init__(self, name, age, hair_color, favorite_color, programming_experience=\"None\"): \n",
    "        # Define attributes here. \n",
    "        self.name = name\n",
    "        self.age = age\n",
    "        self.hair_color = hair_color\n",
    "        self.favorite_color = favorite_color\n",
    "        self.programming_experience = programming_experience\n",
    "        self.words = []\n",
    "        self.foods = []\n",
    "        self.notes = []\n",
    "    \n",
    "    def speaks(self, phrase=\"Yaks are delicious!\"): \n",
    "        '''\n",
    "        Input: String\n",
    "        Output: Printed Statement, Saved phrase\n",
    "        \n",
    "        Print out the inputted phrase, as if they member is speaking. Also add it to \n",
    "        the words attribute for this member. Add a default to the inputted phrase argument \n",
    "        that is a phrase of your choosing. \n",
    "        '''\n",
    "        self.words.append(phrase)\n",
    "        print phrase\n",
    "    \n",
    "    def eats(self, food=\"squid\"): \n",
    "        '''\n",
    "        Input: String\n",
    "        Output: Saved food\n",
    "        \n",
    "        Add the inputted food to the foods attribute for this member, as if the member\n",
    "        was eating the food. Add a default to the inputted food argument that is a food \n",
    "        of your choosing. \n",
    "        '''\n",
    "        self.foods.append(food)\n",
    "    \n",
    "    def writes(self, phrase): \n",
    "        '''\n",
    "        Input: String\n",
    "        Output: Saved Variable\n",
    "        \n",
    "        Add the inputted phrase to the notes attribute for this member. \n",
    "        '''\n",
    "        self.notes.append(phrase)\n",
    "        "
   ]
  },
  {
   "cell_type": "code",
   "execution_count": 36,
   "metadata": {
    "collapsed": false
   },
   "outputs": [],
   "source": [
    "class Meetup(): \n",
    "    \n",
    "    def __init__(self, members):\n",
    "        # Define attributes here. \n",
    "        self.members = members\n",
    "        self.names = [member.name for member in members]\n",
    "    \n",
    "    def get_menu(self): \n",
    "        '''\n",
    "        Input: None\n",
    "        Output: Printed statement\n",
    "        \n",
    "        Print out all of the foods eaten by any of the members in the meetup (i.e. in this\n",
    "        class). \n",
    "        '''\n",
    "        print [food for member in self.members for food in member.foods]\n",
    "        #print [food for food in member.foods for member in self.members] #This only lists one member's foods, and lists them twice...\n",
    "        #for member in self.members:\n",
    "        #    for food in member.foods:\n",
    "        #        print food\n",
    "    \n",
    "    def get_notes(self): \n",
    "        '''\n",
    "        Input: None\n",
    "        Output: Printed Statement\n",
    "        \n",
    "        Print out a word count of all of the words spoken by any of the \n",
    "        members in the meetup (i.e. in this class). \n",
    "        '''\n",
    "        pass\n",
    "    \n",
    "    def get_transcript(self): \n",
    "        '''\n",
    "        Input: None\n",
    "        Output: Printed Statement\n",
    "        \n",
    "        Print out only those unique words in any of the notes of the members \n",
    "        in the meetup (i.e. in this class). \n",
    "        '''\n",
    "        pass"
   ]
  },
  {
   "cell_type": "code",
   "execution_count": 37,
   "metadata": {
    "collapsed": false
   },
   "outputs": [
    {
     "name": "stdout",
     "output_type": "stream",
     "text": [
      "[]\n",
      "['Fred', 'Jill']\n",
      "['squid', 'goats', 'lilacs']\n"
     ]
    }
   ],
   "source": [
    "fred = Member('Fred', 20, 'brown', 'red')\n",
    "jill = Member('Jill', 23, 'red', 'green', '3 years')\n",
    "\n",
    "meetup = Meetup([fred, jill])\n",
    "meetup.get_menu()\n",
    "\n",
    "fred.eats()\n",
    "jill.eats('goats')\n",
    "jill.eats('lilacs')\n",
    "print meetup.names\n",
    "meetup.get_menu()"
   ]
  },
  {
   "cell_type": "code",
   "execution_count": null,
   "metadata": {
    "collapsed": true
   },
   "outputs": [],
   "source": []
  }
 ],
 "metadata": {
  "kernelspec": {
   "display_name": "Python 2",
   "language": "python",
   "name": "python2"
  },
  "language_info": {
   "codemirror_mode": {
    "name": "ipython",
    "version": 2
   },
   "file_extension": ".py",
   "mimetype": "text/x-python",
   "name": "python",
   "nbconvert_exporter": "python",
   "pygments_lexer": "ipython2",
   "version": "2.7.11"
  }
 },
 "nbformat": 4,
 "nbformat_minor": 0
}
