{
 "cells": [
  {
   "cell_type": "markdown",
   "metadata": {},
   "source": [
    "# Practice with Functions\n",
    "\n",
    "### Finish these functions..."
   ]
  },
  {
   "cell_type": "code",
   "execution_count": 3,
   "metadata": {
    "collapsed": false
   },
   "outputs": [
    {
     "name": "stdout",
     "output_type": "stream",
     "text": [
      "1\n",
      "1\n",
      "6\n",
      "120\n",
      "2432902008176640000\n",
      "1\n"
     ]
    }
   ],
   "source": [
    "def calc_factorial(number):\n",
    "    '''\n",
    "    Input: Integer\n",
    "    Output: Integer\n",
    "    \n",
    "    Compute the factorial for the given number. \n",
    "    '''\n",
    "    \n",
    "    fact = 1\n",
    "    for number in xrange(1, number + 1): \n",
    "        fact *= number\n",
    "    return fact\n",
    "\n",
    "print calc_factorial(0)\n",
    "print calc_factorial(1)\n",
    "print calc_factorial(3)\n",
    "print calc_factorial(5)\n",
    "print calc_factorial(20)\n",
    "print calc_factorial(-1)"
   ]
  },
  {
   "cell_type": "code",
   "execution_count": 20,
   "metadata": {
    "collapsed": false
   },
   "outputs": [
    {
     "name": "stdout",
     "output_type": "stream",
     "text": [
      "Dictionary 1\n",
      "For 1\n",
      "Input: 1\n",
      "Output: 1\n",
      "String 1\n",
      "We're 1\n",
      "a 1\n",
      "about 1\n",
      "and 1\n",
      "appeared 1\n",
      "are 2\n",
      "at 1\n",
      "dictionary 1\n",
      "in 1\n",
      "individual 1\n",
      "inputted 1\n",
      "keys 1\n",
      "not 1\n",
      "number 1\n",
      "of 1\n",
      "point. 1\n",
      "punctuation 1\n",
      "return 1\n",
      "string, 1\n",
      "string. 1\n",
      "that 1\n",
      "the 6\n",
      "this 1\n",
      "times 1\n",
      "values 1\n",
      "where 1\n",
      "word 1\n",
      "words, 1\n",
      "worried 1\n"
     ]
    }
   ],
   "source": [
    "def get_word_count(string): \n",
    "    '''\n",
    "    Input: String\n",
    "    Output: Dictionary \n",
    "    \n",
    "    For the inputted string, return a dictionary where the keys are the individual words, \n",
    "    and the values are the number of times that word appeared in the string. We're not \n",
    "    worried about punctuation at this point. \n",
    "    '''\n",
    "    words = string.split()\n",
    "    #Create a dictionary where the keys will be words and the values will be their counts\n",
    "    wordcounts = {}\n",
    "    for word in words:\n",
    "        #If the word is not already in the dictionary, add it and set its count to 1\n",
    "        if not word in wordcounts:\n",
    "            wordcounts[word] = 1\n",
    "        #Otherwise, add 1 to the word's count\n",
    "        else:\n",
    "            wordcounts[word] += 1\n",
    "    return wordcounts\n",
    "\n",
    "wordcounts = get_word_count(\"Input: String\\nOutput: Dictionary\\n\\nFor the inputted string, return a dictionary where the keys are the individual words, and the values are the number of times that word appeared in the string. We're not worried about punctuation at this point.\")\n",
    "#print wordcounts\n",
    "for word in sorted(wordcounts.keys()):\n",
    "    print word, wordcounts[word]"
   ]
  },
  {
   "cell_type": "code",
   "execution_count": 5,
   "metadata": {
    "collapsed": false
   },
   "outputs": [
    {
     "name": "stdout",
     "output_type": "stream",
     "text": [
      "1\n",
      "9\n",
      "25\n",
      "64\n"
     ]
    }
   ],
   "source": [
    "def find_odd_sums(n): \n",
    "    '''\n",
    "    Input: Integer\n",
    "    Output: Integer\n",
    "    \n",
    "    Find the sum of all odd integers less than n. \n",
    "    '''\n",
    "    sum = 0\n",
    "    for k in range(1,n,2):\n",
    "        sum += k\n",
    "    return sum\n",
    "\n",
    "print find_odd_sums(3)\n",
    "print find_odd_sums(6)\n",
    "print find_odd_sums(10)\n",
    "print find_odd_sums(17)"
   ]
  },
  {
   "cell_type": "code",
   "execution_count": 7,
   "metadata": {
    "collapsed": false
   },
   "outputs": [
    {
     "name": "stdout",
     "output_type": "stream",
     "text": [
      "Hello Bob!\n",
      "Hello Fred!\n"
     ]
    }
   ],
   "source": [
    "def say_hello(name): \n",
    "    '''\n",
    "    Input: String\n",
    "    \n",
    "    For the inputted name, print hello to the person.\n",
    "    \n",
    "    Hint: Check out string formatting and/or string concatenation. \n",
    "    E.g. https://pyformat.info\n",
    "    '''\n",
    "    print \"Hello {}!\".format(name)\n",
    "    \n",
    "say_hello('Bob')\n",
    "say_hello('Fred')"
   ]
  },
  {
   "cell_type": "code",
   "execution_count": 18,
   "metadata": {
    "collapsed": false
   },
   "outputs": [
    {
     "name": "stdout",
     "output_type": "stream",
     "text": [
      "False\n",
      "True\n",
      "False\n",
      "False\n",
      "True\n",
      "True\n",
      "False\n"
     ]
    }
   ],
   "source": [
    "import math\n",
    "def check_prime(int_arg): \n",
    "    '''\n",
    "    Input: Integer\n",
    "    Output: Boolean \n",
    "    \n",
    "    Return whether or not the inputted number is prime. \n",
    "    '''\n",
    "    #If the number is 1 or even, return false\n",
    "    if (int_arg == 1): return False\n",
    "    if not (int_arg % 2): return False\n",
    "    \n",
    "    #Otherwise, try dividing by each odd number from 3 up to the square root of the number\n",
    "    for n in range(3,int(math.sqrt(int_arg))+1,2):\n",
    "        if not (int_arg % n): return False\n",
    "    \n",
    "    return True\n",
    "\n",
    "print check_prime(60)\n",
    "print check_prime(61)\n",
    "print check_prime(15)\n",
    "print check_prime(1)\n",
    "print check_prime(101)\n",
    "print check_prime(97)\n",
    "print check_prime(97*101)"
   ]
  },
  {
   "cell_type": "markdown",
   "metadata": {},
   "source": [
    "Now that you've finished, check out the *math* module, specifically the *factorial* function, and also the *collections* module, specifically the *Counter* class. "
   ]
  },
  {
   "cell_type": "markdown",
   "metadata": {},
   "source": [
    "# Practice with Imports \n",
    "\n",
    "To get some practice with what the kind of general workflow is in Python (where you build functions in certain files, then import those functions to use in your program), take each of the functions you finished in the first part, and save in its own file (so  you should have 3 files). Next, write a new script/python program that imports each of these functions and calls it. "
   ]
  },
  {
   "cell_type": "code",
   "execution_count": null,
   "metadata": {
    "collapsed": true
   },
   "outputs": [],
   "source": []
  }
 ],
 "metadata": {
  "kernelspec": {
   "display_name": "Python 2",
   "language": "python",
   "name": "python2"
  },
  "language_info": {
   "codemirror_mode": {
    "name": "ipython",
    "version": 2
   },
   "file_extension": ".py",
   "mimetype": "text/x-python",
   "name": "python",
   "nbconvert_exporter": "python",
   "pygments_lexer": "ipython2",
   "version": "2.7.11"
  }
 },
 "nbformat": 4,
 "nbformat_minor": 0
}
